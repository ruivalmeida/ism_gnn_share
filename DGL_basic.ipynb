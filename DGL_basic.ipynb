{
 "cells": [
  {
   "cell_type": "markdown",
   "metadata": {},
   "source": [
    "# Graph Convolutional Network Demo\n",
    "\n",
    "Notebook created by Rui Valente de Almeida, for the ISM PhD Course;\n",
    "FCT NOVA, 2019"
   ]
  },
  {
   "cell_type": "markdown",
   "metadata": {},
   "source": [
    "This notebook aims to show how we can create and \"operate\" a Graph Neural Network (in this case, spectral convolution type) using the DGL platform, which was itself built over pytorch. This particular examples is DGL's GCN example tutorial, with some minor changes for visualisation and dataset grabbing.\n",
    "\n",
    "[Here's the link for the framework!](https://github.com/dmlc/dgl)"
   ]
  },
  {
   "cell_type": "markdown",
   "metadata": {},
   "source": [
    "## Imports and initial settings\n",
    "\n",
    "We begin this notebook by doing the usual thing in Python: importing everything we need for the program to run. In this case, this includes DGL's libraries and come of Pytorch's neural network structures, as well as some more \"general purpose\" tools like pathlib's Path (which I recommend you learn and use!).\n",
    "\n",
    "We also define the message and reduce functions, which will are responsible for aggregating and updating the network at each step."
   ]
  },
  {
   "cell_type": "code",
   "execution_count": 1,
   "metadata": {},
   "outputs": [],
   "source": [
    "import dgl\n",
    "import dgl.function as fn\n",
    "import torch as th\n",
    "import torch.nn as nn\n",
    "import torch.nn.functional as F\n",
    "from dgl import DGLGraph\n",
    "from dgl.data import citation_graph as citegrh\n",
    "from pathlib import Path\n",
    "import networkx as nx\n",
    "import time\n",
    "import numpy as np\n",
    "import matplotlib.pyplot as plt\n",
    "\n",
    "\n",
    "gcn_msg = fn.copy_src(src='h', out='m')\n",
    "gcn_reduce = fn.sum(msg='m', out='h')"
   ]
  },
  {
   "cell_type": "markdown",
   "metadata": {},
   "source": [
    "## Working class definitions\n",
    "\n",
    "Here, we define the classes with which we will interact. This is one of pytorch's principles: each time we want to define a network to be run somewhere, we create a class inheriting from nn.Module and we write the class using the dunder init and the forward methods. A more complex model not only inherits, but is also composed of other nn.Module children classes. Net is an example of a complex model: notice the two network layers defined as GCN models in the dunder init method. "
   ]
  },
  {
   "cell_type": "markdown",
   "metadata": {},
   "source": [
    "Class `NodeApplyModule` applies a linear transformation and a (presumably) non-linear activation to the group of features that is entered as input"
   ]
  },
  {
   "cell_type": "code",
   "execution_count": 2,
   "metadata": {},
   "outputs": [],
   "source": [
    "class NodeApplyModule(nn.Module):\n",
    "    def __init__(self, in_feats, out_feats, activation):\n",
    "        super(NodeApplyModule, self).__init__()\n",
    "        self.linear = nn.Linear(in_feats, out_feats)\n",
    "        self.activation = activation\n",
    "\n",
    "    def forward(self, node):\n",
    "        h = self.linear(node.data['h'])\n",
    "        h = self.activation(h)\n",
    "        return {'h' : h}"
   ]
  },
  {
   "cell_type": "markdown",
   "metadata": {},
   "source": [
    "Class `GCN` defines the graph convolutional networks that we are using. Its forward method applies the transformations defined in `NodeApplyModule` and updates weights accordingly, using message and reduce functions to convolute the data."
   ]
  },
  {
   "cell_type": "code",
   "execution_count": 3,
   "metadata": {},
   "outputs": [],
   "source": [
    "class GCN(nn.Module):\n",
    "    def __init__(self, in_feats, out_feats, activation):\n",
    "        super(GCN, self).__init__()\n",
    "        self.apply_mod = NodeApplyModule(in_feats, out_feats, activation)\n",
    "\n",
    "    def forward(self, g, feature):\n",
    "        g.ndata['h'] = feature\n",
    "        g.update_all(gcn_msg, gcn_reduce)\n",
    "        g.apply_nodes(func=self.apply_mod)\n",
    "        return g.ndata.pop('h')"
   ]
  },
  {
   "cell_type": "markdown",
   "metadata": {},
   "source": [
    "Class `Net`defines the model itself, which implements two GCN layers of a set number of features and defines the activation function used in `NodeApplyModule`, which in this example is a relu. We print the model so that we can peek at the structure."
   ]
  },
  {
   "cell_type": "code",
   "execution_count": 4,
   "metadata": {},
   "outputs": [
    {
     "name": "stdout",
     "output_type": "stream",
     "text": [
      "Net(\n",
      "  (gcn1): GCN(\n",
      "    (apply_mod): NodeApplyModule(\n",
      "      (linear): Linear(in_features=1433, out_features=16, bias=True)\n",
      "    )\n",
      "  )\n",
      "  (gcn2): GCN(\n",
      "    (apply_mod): NodeApplyModule(\n",
      "      (linear): Linear(in_features=16, out_features=7, bias=True)\n",
      "    )\n",
      "  )\n",
      ")\n"
     ]
    }
   ],
   "source": [
    "class Net(nn.Module):\n",
    "    def __init__(self):\n",
    "        super(Net, self).__init__()\n",
    "        self.gcn1 = GCN(1433, 16, F.relu)\n",
    "        self.gcn2 = GCN(16, 7, F.relu)\n",
    "\n",
    "    def forward(self, g, features):\n",
    "        x = self.gcn1(g, features)\n",
    "        x = self.gcn2(g, x)\n",
    "        return x\n",
    "net = Net()\n",
    "print(net)"
   ]
  },
  {
   "cell_type": "markdown",
   "metadata": {},
   "source": [
    "## Dataset Loading\n",
    "\n",
    "In this code block, we define the function that grabs data from a given location, preprocesses and then returns them ready for pluging into the ANN. The `CitGraph`class was defined in order to harness DGL's examples' class structure with a foreign dataset. It was created because the original one had a wrongly defined url and was therefore unable to fetch the dataset."
   ]
  },
  {
   "cell_type": "code",
   "execution_count": 5,
   "metadata": {},
   "outputs": [],
   "source": [
    "# Dataset Loading\n",
    "class CitGraph(citegrh.CoraDataset):\n",
    "    def __init__(self, dpath):\n",
    "        self.dir = str(dpath)\n",
    "        self.name = 'cora'\n",
    "        self._load()\n",
    "    \n",
    "def load_cora_data():\n",
    "    datapath = Path.home() / 'data' / 'dgl'\n",
    "    #data = citegrh.load_cora()\n",
    "    data = CitGraph(datapath)\n",
    "    features = th.FloatTensor(data.features)\n",
    "    labels = th.LongTensor(data.labels)\n",
    "    mask = th.ByteTensor(data.train_mask)\n",
    "    g = data.graph\n",
    "    # add self loop\n",
    "    g.remove_edges_from(g.selfloop_edges())\n",
    "    g = DGLGraph(g)\n",
    "    g.add_edges(g.nodes(), g.nodes())\n",
    "    return g, features, labels, mask"
   ]
  },
  {
   "cell_type": "markdown",
   "metadata": {},
   "source": [
    "## Fetching and preparing data; Plotting the graph\n",
    "\n",
    "These next two code cells run the functions from the previous cell, fetching the data and preparing them for the ANN. The second cell plots the graph using matplotlib's pyplot. It does take a long time to run, and sometimes does not plot anything. I don't know why."
   ]
  },
  {
   "cell_type": "code",
   "execution_count": 6,
   "metadata": {},
   "outputs": [],
   "source": [
    "g, features, labels, mask = load_cora_data()"
   ]
  },
  {
   "cell_type": "code",
   "execution_count": 7,
   "metadata": {},
   "outputs": [
    {
     "data": {
      "image/png": "[encoded data removed]",
      "text/plain": [
       "<Figure size 432x288 with 1 Axes>"
      ]
     },
     "metadata": {},
     "output_type": "display_data"
    }
   ],
   "source": [
    "nx.draw(g.to_networkx(), node_size=200, node_color=[[.5, .5, .5,]])\n",
    "plt.show()"
   ]
  },
  {
   "cell_type": "markdown",
   "metadata": {},
   "source": [
    "## Training the network\n",
    "\n",
    "Finally, we train the network we have created. We use the `Net`object we have instanced some cells above, set an optimizer and some loss functions and run training for 30 epochs (30 complete cycles). We also print out the time it takes to train the model, updated at each epoch."
   ]
  },
  {
   "cell_type": "code",
   "execution_count": 8,
   "metadata": {},
   "outputs": [
    {
     "name": "stderr",
     "output_type": "stream",
     "text": [
      "/home/paperspace/anaconda3/envs/dgl/lib/python3.7/site-packages/dgl/base.py:18: UserWarning: Initializer is not set. Use zero initializer instead. To suppress this warning, use `set_initializer` to explicitly specify which initializer to use.\n",
      "  warnings.warn(msg)\n",
      "/home/paperspace/anaconda3/envs/dgl/lib/python3.7/site-packages/numpy/core/fromnumeric.py:3118: RuntimeWarning: Mean of empty slice.\n",
      "  out=out, **kwargs)\n",
      "/home/paperspace/anaconda3/envs/dgl/lib/python3.7/site-packages/numpy/core/_methods.py:85: RuntimeWarning: invalid value encountered in double_scalars\n",
      "  ret = ret.dtype.type(ret / rcount)\n"
     ]
    },
    {
     "name": "stdout",
     "output_type": "stream",
     "text": [
      "Epoch 00000 | Loss 1.9473 | Time(s) nan\n",
      "Epoch 00001 | Loss 1.9346 | Time(s) nan\n",
      "Epoch 00002 | Loss 1.9241 | Time(s) nan\n",
      "Epoch 00003 | Loss 1.9144 | Time(s) 0.3964\n",
      "Epoch 00004 | Loss 1.9054 | Time(s) 0.3943\n",
      "Epoch 00005 | Loss 1.8960 | Time(s) 0.3929\n",
      "Epoch 00006 | Loss 1.8865 | Time(s) 0.3923\n",
      "Epoch 00007 | Loss 1.8765 | Time(s) 0.3913\n",
      "Epoch 00008 | Loss 1.8664 | Time(s) 0.3900\n",
      "Epoch 00009 | Loss 1.8568 | Time(s) 0.3905\n",
      "Epoch 00010 | Loss 1.8475 | Time(s) 0.3906\n",
      "Epoch 00011 | Loss 1.8385 | Time(s) 0.3910\n",
      "Epoch 00012 | Loss 1.8301 | Time(s) 0.3898\n",
      "Epoch 00013 | Loss 1.8222 | Time(s) 0.3892\n",
      "Epoch 00014 | Loss 1.8148 | Time(s) 0.3908\n",
      "Epoch 00015 | Loss 1.8080 | Time(s) 0.3910\n",
      "Epoch 00016 | Loss 1.8017 | Time(s) 0.3914\n",
      "Epoch 00017 | Loss 1.7960 | Time(s) 0.3912\n",
      "Epoch 00018 | Loss 1.7908 | Time(s) 0.3913\n",
      "Epoch 00019 | Loss 1.7860 | Time(s) 0.3904\n",
      "Epoch 00020 | Loss 1.7816 | Time(s) 0.3894\n",
      "Epoch 00021 | Loss 1.7776 | Time(s) 0.3887\n",
      "Epoch 00022 | Loss 1.7739 | Time(s) 0.3872\n",
      "Epoch 00023 | Loss 1.7704 | Time(s) 0.3857\n",
      "Epoch 00024 | Loss 1.7671 | Time(s) 0.3845\n",
      "Epoch 00025 | Loss 1.7640 | Time(s) 0.3840\n",
      "Epoch 00026 | Loss 1.7611 | Time(s) 0.3826\n",
      "Epoch 00027 | Loss 1.7584 | Time(s) 0.3825\n",
      "Epoch 00028 | Loss 1.7558 | Time(s) 0.3817\n",
      "Epoch 00029 | Loss 1.7534 | Time(s) 0.3818\n"
     ]
    }
   ],
   "source": [
    "optimizer = th.optim.Adam(net.parameters(), lr=1e-3)\n",
    "dur = []\n",
    "for epoch in range(30):\n",
    "    if epoch >=3:\n",
    "        t0 = time.time()\n",
    "\n",
    "    logits = net(g, features)\n",
    "    logp = F.log_softmax(logits, 1)\n",
    "    loss = F.nll_loss(logp[mask], labels[mask])\n",
    "\n",
    "    optimizer.zero_grad()\n",
    "    loss.backward()\n",
    "    optimizer.step()\n",
    "\n",
    "    if epoch >=3:\n",
    "        dur.append(time.time() - t0)\n",
    "\n",
    "    print(\"Epoch {:05d} | Loss {:.4f} | Time(s) {:.4f}\".format(\n",
    "            epoch, loss.item(), np.mean(dur)))"
   ]
  },
  {
   "cell_type": "markdown",
   "metadata": {},
   "source": [
    "This is one of the most basic tutorials available for DGL, in which one creates the structures and models that need to be implemented for working with GNNs. DGL's developers have published several other tutorials at [their tutorial page](https://docs.dgl.ai/en/latest/tutorials/models/index.html)."
   ]
  }
 ],
 "metadata": {
  "kernelspec": {
   "display_name": "Python 3",
   "language": "python",
   "name": "python3"
  },
  "language_info": {
   "codemirror_mode": {
    "name": "ipython",
    "version": 3
   },
   "file_extension": ".py",
   "mimetype": "text/x-python",
   "name": "python",
   "nbconvert_exporter": "python",
   "pygments_lexer": "ipython3",
   "version": "3.7.3"
  }
 },
 "nbformat": 4,
 "nbformat_minor": 2
}
